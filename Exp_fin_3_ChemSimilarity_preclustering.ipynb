{
 "cells": [
  {
   "cell_type": "code",
   "execution_count": 2,
   "id": "4bb2594a",
   "metadata": {},
   "outputs": [],
   "source": [
    "import os\n",
    "import sys\n",
    "import numpy as np\n",
    "import networkx as nx\n",
    "import itertools as it\n",
    "import random as rd\n",
    "import pickle as pk\n",
    "import os.path\n",
    "import pandas as pd\n",
    "from collections import (defaultdict,Counter)\n",
    "import time\n",
    "import matplotlib.pyplot as plt\n",
    "import rdkit\n",
    "from pubchempy import *"
   ]
  },
  {
   "cell_type": "code",
   "execution_count": 2,
   "id": "e6edcc2c",
   "metadata": {},
   "outputs": [],
   "source": [
    "#Let's import the chemical-gene interactions from CTD (downloaded on 5th April 2021)\n",
    "chem_gene_df = pd.read_csv(\"input/CTD/CTD_chem_gene_ixns.tsv\",delimiter= '\\t', skipinitialspace=True)\n",
    "#Here, we filter for only the interactions that regards the H. Sapiens\n",
    "chem_homo = chem_gene_df[(chem_gene_df['Organism'] == 'Homo sapiens')]"
   ]
  },
  {
   "cell_type": "code",
   "execution_count": null,
   "id": "8f20cbf8",
   "metadata": {},
   "outputs": [],
   "source": [
    "\n",
    "#Let's convert the chemical names from CTD to smiles\n",
    "chem_name_set=set(chem_homo['# ChemicalName'])\n",
    "chem_smile_list=[]\n",
    "chem_name_smile_dict={}\n",
    "for chem in chem_name_set:\n",
    "    try:\n",
    "        for compound in get_compounds(chem, 'name'):\n",
    "            smile=compound.isomeric_smiles\n",
    "            chem_smile_list.append(smile)\n",
    "            chem_name_smile_dict[smile]=chem\n",
    "    except:\n",
    "        pass\n",
    "with open('output/chem_name_smile_dict.pickle', 'wb') as handle:\n",
    "    pk.dump(chem_name_smile_dict, handle, protocol=pk.HIGHEST_PROTOCOL)"
   ]
  },
  {
   "cell_type": "code",
   "execution_count": 8,
   "id": "9bc72ec5",
   "metadata": {},
   "outputs": [],
   "source": [
    "#Let's import the results\n",
    "with open('output/chem_name_smile_dict.pickle', 'rb') as handle:\n",
    "    chem_name_smile_dict = pk.load(handle)"
   ]
  },
  {
   "cell_type": "code",
   "execution_count": 9,
   "id": "e741e6c1",
   "metadata": {},
   "outputs": [],
   "source": [
    "#Let's define a dictionary that will convert the chemical name in chemical ID\n",
    "chem_name_id_conversion = {}\n",
    "for i,v in chem_gene_df.iterrows():\n",
    "        chem_name_id_conversion[v[\"# ChemicalName\"]] = v[\"ChemicalID\"]"
   ]
  },
  {
   "cell_type": "code",
   "execution_count": 11,
   "id": "aa0098a3",
   "metadata": {},
   "outputs": [],
   "source": [
    "#Let's invert the chem_name_smile_dict\n",
    "def invert_dict(d):\n",
    "    inverted_dict = {}\n",
    "    for key, value in d.items():\n",
    "        if value not in inverted_dict:\n",
    "            inverted_dict[value] = [key]\n",
    "        else:\n",
    "            inverted_dict[value].append(key)\n",
    "    return inverted_dict"
   ]
  },
  {
   "cell_type": "code",
   "execution_count": 12,
   "id": "cf8b9895",
   "metadata": {},
   "outputs": [],
   "source": [
    "chem_name_smile_dict_inv=invert_dict(chem_name_smile_dict)"
   ]
  },
  {
   "cell_type": "code",
   "execution_count": 18,
   "id": "57e75288",
   "metadata": {},
   "outputs": [],
   "source": [
    "#Let's convert the chem name into chem ids\n",
    "chem_id_smile_dict={}\n",
    "for chem_name,smile_list in chem_name_smile_dict_inv.items():\n",
    "    chem_id_smile_dict[chem_name_id_conversion[chem_name]]=smile_list"
   ]
  },
  {
   "cell_type": "code",
   "execution_count": null,
   "id": "e00bb8c9",
   "metadata": {},
   "outputs": [],
   "source": [
    "with open('output/chem_id_smile_dict.pickle', 'wb') as handle:\n",
    "    pk.dump(chem_id_smile_dict, handle, protocol=pk.HIGHEST_PROTOCOL)"
   ]
  },
  {
   "cell_type": "code",
   "execution_count": null,
   "id": "fc45443e",
   "metadata": {},
   "outputs": [],
   "source": [
    "#Let's import the results\n",
    "with open('output/chem_name_smile_dict.pickle', 'rb') as handle:\n",
    "    chem_name_smile_dict = pk.load(handle)"
   ]
  },
  {
   "cell_type": "code",
   "execution_count": 20,
   "id": "b042f52a",
   "metadata": {},
   "outputs": [],
   "source": [
    "#Let's extract only those chemical similarities that have a unique SMILE\n",
    "unique_chem_id_smile_dict={}\n",
    "for chem_id,smile_list in chem_id_smile_dict.items():\n",
    "    if len(smile_list)==1:\n",
    "        unique_chem_id_smile_dict[chem_id]=smile_list[0]\n",
    "chem_id_list=list(unique_chem_id_smile_dict.keys())"
   ]
  },
  {
   "cell_type": "code",
   "execution_count": 21,
   "id": "19dd11df",
   "metadata": {},
   "outputs": [
    {
     "data": {
      "text/plain": [
       "7005"
      ]
     },
     "execution_count": 21,
     "metadata": {},
     "output_type": "execute_result"
    }
   ],
   "source": [
    "len(chem_id_list)"
   ]
  },
  {
   "cell_type": "code",
   "execution_count": null,
   "id": "c1652f31",
   "metadata": {},
   "outputs": [],
   "source": [
    "#Let's calculate the Tanimoto Similarity for all pairwise, this step is performed in the cluster\n",
    "#under the name CTD_chem_smile_similarity.py\n",
    "from rdkit.DataStructs.cDataStructs import TanimotoSimilarity\n",
    "\n",
    "def calculate_tanimoto_coefficient(smiles1, smiles2):\n",
    "    mol1 = Chem.MolFromSmiles(smiles1)\n",
    "    mol2 = Chem.MolFromSmiles(smiles2)\n",
    "    if mol1 is not None and mol2 is not None:\n",
    "        fp1 = Chem.RDKFingerprint(mol1)\n",
    "        fp2 = Chem.RDKFingerprint(mol2)\n",
    "        tanimoto_coefficient = TanimotoSimilarity(fp1, fp2)\n",
    "        return tanimoto_coefficient\n",
    "    return None\n",
    "\n",
    "chem_id_pairwise=list(it.combinations(chem_id_list,2))\n",
    "\n",
    "chem_tanimoto_dict={}\n",
    "for chem_id_pair in chem_id_pairwise:\n",
    "    try:\n",
    "        taninomoto_coeff=calculate_tanimoto_coefficient(unique_chem_id_smile_dict[chem_id_pair[0]],unique_chem_id_smile_dict[chem_id_pair[1]])\n",
    "        chem_tanimoto_dict[chem_id_pair]=taninomoto_coeff\n",
    "    except:\n",
    "        pass\n",
    "    \n",
    "with open('intermediate/chem_tanimoto_dict.pickle', 'wb') as handle:\n",
    "    pk.dump(chem_tanimoto_dict, handle, protocol=pk.HIGHEST_PROTOCOL)"
   ]
  },
  {
   "cell_type": "code",
   "execution_count": 2,
   "id": "ccaad4da",
   "metadata": {},
   "outputs": [],
   "source": [
    "#Let's import the results\n",
    "with open('intermediate/chem_tanimoto_dict.pickle', 'rb') as handle:\n",
    "    chem_tanimoto_dict = pk.load(handle)"
   ]
  },
  {
   "cell_type": "code",
   "execution_count": null,
   "id": "b80bbbb2",
   "metadata": {},
   "outputs": [],
   "source": []
  },
  {
   "cell_type": "code",
   "execution_count": null,
   "id": "a10bc7f5",
   "metadata": {},
   "outputs": [],
   "source": []
  },
  {
   "cell_type": "code",
   "execution_count": null,
   "id": "50d2f332",
   "metadata": {},
   "outputs": [],
   "source": [
    "#Let's calculate the Resnik Similarity across all chemical pairwise\n",
    "#In this step, we will calculate also the Jaccard Index between the set overlap of the two perturbed geneset\n",
    "#for each chemical exposure pairs\n",
    "#This cell is performed in the cluster with the following script: CTD_Resnik\n",
    "\n",
    "#Let's import the ontology from CTD\n",
    "chem_vocabolary = pd.read_csv(\"input/CTD/CTD_chemicals_cleaned.txt\",delimiter= '\\t',\n",
    "           skipinitialspace=True)\n",
    "\n",
    "#This cells create a dictionary where each key is a chemical compound and the correspondent value is a genelist \n",
    "chem_gene = {}\n",
    "for i,v in chem_homo.iterrows():\n",
    "    try:\n",
    "        chem_gene[v[\"ChemicalID\"]] |= {v[\"GeneSymbol\"]}\n",
    "    except KeyError as e:\n",
    "        chem_gene[v[\"ChemicalID\"]] = set([v[\"GeneSymbol\"]])\n",
    "        \n",
    "#Here, we keep only the exposures which perturb at least one gene\n",
    "chem_gene_cleaned = {}\n",
    "tot_gene_list=[]\n",
    "for k,v in chem_gene.items():\n",
    "    if len(v)>0:\n",
    "        chem_gene_cleaned[k]=v\n",
    "        for gene in v:\n",
    "            tot_gene_list.append(gene)\n",
    "    else:\n",
    "        pass\n",
    "        \n",
    "#This function calculates the Jaccard Index between two lists\n",
    "def overlap_jaccard(list1,list2):\n",
    "    intersction_term= len(set(list1) & set(list2))\n",
    "    denominator = len(set(list1).union(set(list2)))\n",
    "    overlap_jaccard_coeff = intersction_term/denominator\n",
    "    return overlap_jaccard_coeff\n",
    "\n",
    "#This function is the first step for the resnik score calculation\n",
    "def precalc_lower_bounds(G):\n",
    "    \"\"\"Pre-calculate the number of lower bounds of the graph nodes\n",
    "    \"\"\"\n",
    "    G.lower_bounds = Counter()\n",
    "    for n in G:\n",
    "        G.lower_bounds[n] += 1\n",
    "        for ans in nx.ancestors(G, n):\n",
    "            G.lower_bounds[ans] += 1\n",
    "   # G.descriptors.add(\"Pre-calculated lower bounds\")\n",
    "#This function is the second step for the resnik score calculation\n",
    "def information_content(G, term):\n",
    "    \"\"\"Information content\n",
    "    Args:\n",
    "        G(Ontology Graph): Ontology graph object\n",
    "        term(str): ontolgy term\n",
    "    Returns:\n",
    "        str - Information content\n",
    "    Raises:\n",
    "        PGSSLookupError: The term was not found in Ontology Graph\n",
    "        PGSSInvalidOperation: see `pygosemsim.similarity.precalc_lower_bounds`\n",
    "    \"\"\"\n",
    "    if term not in G.lower_bounds:\n",
    "        raise exception.PGSSLookupError(f\"Missing term: {term}\")\n",
    "    freq = G.lower_bounds[term] / len(G)\n",
    "    return round(-1 * math.log2(freq), 3)\n",
    "\n",
    "#This function is the third step for the resnik score calculation\n",
    "def lowest_common_ancestor(G, term1, term2):\n",
    "    \"\"\"Naive implementation of lowest common ancestor (LCA)\n",
    "    Args:\n",
    "        G(GoGraph): Graph object\n",
    "        term1(str): Ontology term 1\n",
    "        term2(str): Ontology term 2\n",
    "    Returns:\n",
    "        str - Lowest common ancestor term\n",
    "        or None if the terms have no common ancestors\n",
    "    Raises:\n",
    "        PGSSLookupError: The term was not found in Ontology Graph\n",
    "        PGSSInvalidOperation: see `pygosemsim.similarity.precalc_lower_bounds`\n",
    "    \"\"\"\n",
    "    if term1 not in G:\n",
    "        raise exception.PGSSLookupError(f\"Missing term: {term1}\")\n",
    "    if term2 not in G:\n",
    "        raise exception.PGSSLookupError(f\"Missing term: {term2}\")\n",
    "    lb1 = nx.ancestors(G, term1) | {term1}\n",
    "    lb2 = nx.ancestors(G, term2) | {term2}\n",
    "    common_ans = lb1 & lb2\n",
    "    if not common_ans:\n",
    "        return\n",
    "    return min(common_ans, key=lambda x: G.lower_bounds[x])\n",
    "import math\n",
    "#This function would return the resnik score between two terms\n",
    "def resnik(G, term1, term2):\n",
    "    \"\"\"Semantic similarity based on Resnik method\n",
    "    Args:\n",
    "        G(GoGraph): Ontology graph object\n",
    "        term1(str): term 1\n",
    "        term2(str): term 2\n",
    "    Returns:\n",
    "        float - Resnik similarity value (Information content of LCA)\n",
    "        or None if the terms have no common ancestors\n",
    "    Raises:\n",
    "        PGSSLookupError: The term was not found in GoGraph\n",
    "        PGSSInvalidOperation: see `pygosemsim.similarity.precalc_lower_bounds`\n",
    "    \"\"\"\n",
    "    mica = lowest_common_ancestor(G, term1, term2)\n",
    "    if mica is not None:\n",
    "        return information_content(G, mica)\n",
    "    \n",
    "chem_voc_dict = {}\n",
    "for i,v in chem_vocabolary.iterrows():\n",
    "    try:\n",
    "        chem_voc_dict[v[\"ChemicalID\"]] = v[\"ParentIDs\"].split(\"|\")\n",
    "    except:\n",
    "        chem_voc_dict[v[\"ChemicalID\"]] = v[\"ParentIDs\"]\n",
    "from collections.abc import Mapping\n",
    "# Empty directed graph\n",
    "G = nx.DiGraph()\n",
    "for k in chem_voc_dict.keys():\n",
    "    try:\n",
    "        for v in chem_voc_dict[k]:\n",
    "            G.add_edge(k, v)\n",
    "    except:\n",
    "        G.add_edge(k,\"D\")\n",
    "\n",
    "G_down = nx.DiGraph.reverse(G)\n",
    "precalc_lower_bounds(G_down)\n",
    "\n",
    "parenthood_similarity_score_pairs_dictio = {}\n",
    "parenthood_overlap_pairs_dictio = {}\n",
    "\n",
    "wo_parenthood_similarity_score_pairs_dictio = {}\n",
    "wo_parenthood_overlap_pairs_dictio = {}\n",
    "\n",
    "pairwise_list = list(it.combinations(chem_gene_cleaned.keys(), 2))\n",
    "for i,j in pairwise_list:\n",
    "    if i not in nx.descendants(G_down,j) and j not in nx.descendants(G_down,i):           #I exclude direct parents-children exposures\n",
    "        wo_parenthood_similarity_score_pairs_dictio[i,j] = round(resnik(G_down, i, j),3)\n",
    "        geneset_1=chem_gene_cleaned[i]\n",
    "        geneset_2=chem_gene_cleaned[j]\n",
    "        wo_parenthood_overlap_pairs_dictio[i,j] = round(overlap_jaccard(geneset_1,geneset_2),3)\n",
    "    else:\n",
    "        parenthood_similarity_score_pairs_dictio[i,j] = round(resnik(G_down, i, j),3)\n",
    "        geneset_1=chem_gene_cleaned[i]\n",
    "        geneset_2=chem_gene_cleaned[j]\n",
    "        parenthood_overlap_pairs_dictio[i,j]=round(overlap_jaccard(geneset_1,geneset_2),3)\n",
    "\n",
    "\n",
    "with open('intermediate/wo_parentalhood_resnik.pickle', 'wb') as handle:\n",
    "    pickle.dump(wo_parenthood_similarity_score_pairs_dictio, handle, protocol=pickle.HIGHEST_PROTOCOL)\n",
    "\n",
    "with open('intermediate/wo_parentalhood_gene_overlap.pickle', 'wb') as handle:\n",
    "    pickle.dump(wo_parenthood_overlap_pairs_dictio, handle, protocol=pickle.HIGHEST_PROTOCOL)\n",
    "\n",
    "with open('intermediate/parenthood_similarity_score_pairs_dictio.pickle', 'wb') as handle:\n",
    "    pickle.dump(parenthood_similarity_score_pairs_dictio, handle, protocol=pickle.HIGHEST_PROTOCOL)\n",
    "\n",
    "with open('intermediate/parenthood_overlap_pairs_dictio.pickle', 'wb') as handle:\n",
    "    pickle.dump(parenthood_overlap_pairs_dictio, handle, protocol=pickle.HIGHEST_PROTOCOL)\n",
    "    \n",
    "    "
   ]
  },
  {
   "cell_type": "code",
   "execution_count": 24,
   "id": "918bca21",
   "metadata": {},
   "outputs": [],
   "source": [
    "#Let's import the resnik score\n",
    "with open('intermediate/parenthood_similarity_score_pairs_dictio.pickle', 'rb') as handle:\n",
    "    parenthood_similarity_score_pairs_dictio = pk.load(handle)\n",
    "with open('intermediate/wo_parentalhood_resnik.pickle', 'rb') as handle:\n",
    "    wo_parenthood_similarity_score_pairs_dictio = pk.load(handle)"
   ]
  },
  {
   "cell_type": "code",
   "execution_count": 25,
   "id": "fda573d6",
   "metadata": {},
   "outputs": [],
   "source": [
    "#Let's merge the resnik score without and with parenthood relationships\n",
    "tot_resnik={**wo_parenthood_similarity_score_pairs_dictio, **parenthood_similarity_score_pairs_dictio}"
   ]
  },
  {
   "cell_type": "code",
   "execution_count": 26,
   "id": "9f43c8c6",
   "metadata": {},
   "outputs": [],
   "source": [
    "tanimoto_list=[]\n",
    "resnik_list=[]\n",
    "for k,v in chem_tanimoto_dict.items():\n",
    "    tanimoto_list.append(v)\n",
    "    resnik_list.append(tot_resnik[k])"
   ]
  },
  {
   "cell_type": "code",
   "execution_count": 27,
   "id": "c714c325",
   "metadata": {},
   "outputs": [
    {
     "name": "stdout",
     "output_type": "stream",
     "text": [
      "PearsonRResult(statistic=0.25979072784944046, pvalue=0.0)\n",
      "SignificanceResult(statistic=0.23074334490408321, pvalue=0.0)\n"
     ]
    }
   ],
   "source": [
    "import scipy  \n",
    "from scipy import stats\n",
    "print(scipy.stats.pearsonr(tanimoto_list,resnik_list))  # Pearson's r\n",
    "print(scipy.stats.spearmanr(tanimoto_list,resnik_list)) # Spearman's rho"
   ]
  },
  {
   "cell_type": "code",
   "execution_count": 29,
   "id": "88c93250",
   "metadata": {},
   "outputs": [],
   "source": [
    "chem_tanimoto_dict_sort=dict(sorted(chem_tanimoto_dict.items(), key=lambda item: item[1]))\n",
    "\n",
    "resnik_list_1=[]\n",
    "resnik_list_2=[]\n",
    "resnik_list_3=[]\n",
    "resnik_list_4=[]\n",
    "resnik_list_5=[]\n",
    "resnik_list_6=[]\n",
    "resnik_list_7=[]\n",
    "resnik_list_8=[]\n",
    "resnik_list_9=[]\n",
    "resnik_list_10=[]\n",
    "\n",
    "\n",
    "for chem_pair,tanimoto_coeff in chem_tanimoto_dict_sort.items():\n",
    "    if tanimoto_coeff<0.1:\n",
    "        resnik_list_1.append(tot_resnik[chem_pair])\n",
    "    elif tanimoto_coeff>0.1 and tanimoto_coeff<2*0.1:\n",
    "        resnik_list_2.append(tot_resnik[chem_pair])\n",
    "    elif tanimoto_coeff>2*0.1 and tanimoto_coeff<3*0.1:\n",
    "        resnik_list_3.append(tot_resnik[chem_pair])\n",
    "    elif tanimoto_coeff>3*0.1 and tanimoto_coeff<4*0.1:\n",
    "        resnik_list_4.append(tot_resnik[chem_pair])\n",
    "    elif tanimoto_coeff>4*0.1 and tanimoto_coeff<5*0.1:\n",
    "        resnik_list_5.append(tot_resnik[chem_pair])\n",
    "    elif tanimoto_coeff>5*0.1 and tanimoto_coeff<6*0.1:\n",
    "        resnik_list_6.append(tot_resnik[chem_pair])\n",
    "    elif tanimoto_coeff>6*0.1 and tanimoto_coeff<7*0.1:\n",
    "        resnik_list_7.append(tot_resnik[chem_pair])\n",
    "    elif tanimoto_coeff>7*0.1 and tanimoto_coeff<8*0.1:\n",
    "        resnik_list_8.append(tot_resnik[chem_pair])\n",
    "    elif tanimoto_coeff>8*0.1 and tanimoto_coeff<9*0.1:\n",
    "        resnik_list_9.append(tot_resnik[chem_pair])\n",
    "    else:\n",
    "        resnik_list_10.append(tot_resnik[chem_pair])\n",
    "        "
   ]
  },
  {
   "cell_type": "code",
   "execution_count": 30,
   "id": "6d3df7ee",
   "metadata": {},
   "outputs": [],
   "source": [
    "#Here, we check the biological cohesiveness of the enrichment terms for each dividing community\n",
    "\n",
    "\n",
    "column_names = [\"Resnik\", \"Tanimoto\"]\n",
    "\n",
    "resnik_list_tot=[]\n",
    "group_list=[]\n",
    "for i in resnik_list_1:\n",
    "    resnik_list_tot.append(i)\n",
    "    group_list.append(\"<10%\")\n",
    "    \n",
    "for i in resnik_list_2:\n",
    "    resnik_list_tot.append(i)\n",
    "    group_list.append(\"10%-20%\")\n",
    "\n",
    "for i in resnik_list_3:\n",
    "    resnik_list_tot.append(i)\n",
    "    group_list.append(\"20%-30%\")\n",
    "    \n",
    "for i in resnik_list_4:\n",
    "    resnik_list_tot.append(i)\n",
    "    group_list.append(\"30%-40%\")\n",
    "    \n",
    "for i in resnik_list_5:\n",
    "    resnik_list_tot.append(i)\n",
    "    group_list.append(\"40%-50%\")\n",
    "\n",
    "for i in resnik_list_6:\n",
    "    resnik_list_tot.append(i)\n",
    "    group_list.append(\"50%-60%\")\n",
    "\n",
    "for i in resnik_list_7:\n",
    "    resnik_list_tot.append(i)\n",
    "    group_list.append(\"60%-70%\")\n",
    "    \n",
    "for i in resnik_list_8:\n",
    "    resnik_list_tot.append(i)\n",
    "    group_list.append(\"70%-80%\")\n",
    "    \n",
    "for i in resnik_list_9:\n",
    "    resnik_list_tot.append(i)\n",
    "    group_list.append(\"80%-90%\")\n",
    "\n",
    "for i in resnik_list_10:\n",
    "    resnik_list_tot.append(i)\n",
    "    group_list.append(\"90%-100%\")\n",
    "    \n",
    "    \n",
    "Resnik_Tanimoto_df = pd.DataFrame(columns = column_names)\n",
    "Resnik_Tanimoto_df[\"Resnik\"]=resnik_list_tot\n",
    "Resnik_Tanimoto_df[\"Tanimoto\"]=group_list"
   ]
  },
  {
   "cell_type": "code",
   "execution_count": 42,
   "id": "47706981",
   "metadata": {},
   "outputs": [
    {
     "data": {
      "image/png": "[encoded data removed]",
      "text/plain": [
       "<Figure size 2400x1800 with 1 Axes>"
      ]
     },
     "metadata": {},
     "output_type": "display_data"
    }
   ],
   "source": [
    "import seaborn as sns\n",
    "fig, ax = plt.subplots(figsize=(24, 18))\n",
    "ax = sns.barplot(x=\"Tanimoto\", y=\"Resnik\", data=Resnik_Tanimoto_df,errorbar='se',\n",
    "                 palette=\"Blues_d\")\n",
    "#ax.set_yscale(\"log\")\n",
    "ax.set_ylabel(\"Resnik\",fontsize=28)\n",
    "ax.set_xlabel(\"Tanimoto\",fontsize=28)\n",
    "plt.savefig('output/Figures/SF4A_v03.pdf',format='pdf',dpi=300, bbox_inches = \"tight\")\n",
    "plt.show()"
   ]
  },
  {
   "cell_type": "code",
   "execution_count": null,
   "id": "5e61d46f",
   "metadata": {},
   "outputs": [],
   "source": []
  },
  {
   "cell_type": "code",
   "execution_count": null,
   "id": "d74ada95",
   "metadata": {},
   "outputs": [],
   "source": []
  },
  {
   "cell_type": "code",
   "execution_count": 3,
   "id": "e1519f7f",
   "metadata": {},
   "outputs": [],
   "source": [
    "#Let's import the genetic overlap JI\n",
    "    \n",
    "with open('intermediate/parenthood_overlap_pairs_dictio.pickle', 'rb') as handle:\n",
    "    parenthood_overlap_pairs_dictio = pk.load(handle)\n",
    "    \n",
    "with open('intermediate/wo_parentalhood_gene_overlap.pickle', 'rb') as handle:\n",
    "    wo_parenthood_overlap_pairs_dictio = pk.load(handle)"
   ]
  },
  {
   "cell_type": "code",
   "execution_count": 4,
   "id": "b0d8ac1e",
   "metadata": {},
   "outputs": [],
   "source": [
    "#Let's merge them together\n",
    "\n",
    "tot_overlap={**wo_parenthood_overlap_pairs_dictio, **parenthood_overlap_pairs_dictio}"
   ]
  },
  {
   "cell_type": "code",
   "execution_count": null,
   "id": "25137c9f",
   "metadata": {},
   "outputs": [],
   "source": [
    "tot_overlap_list=[]\n",
    "tot_resnik_list=[]\n",
    "for pair,val in tot_overlap.items():\n",
    "    tot_overlap_list.append(val)\n",
    "    tot_resnik_list.append(tot_resnik[pair])"
   ]
  },
  {
   "cell_type": "code",
   "execution_count": null,
   "id": "19444dd0",
   "metadata": {},
   "outputs": [],
   "source": [
    "import scipy  \n",
    "from scipy import stats\n",
    "print(scipy.stats.pearsonr(tot_overlap_list,tot_resnik_list))  # Pearson's r\n",
    "print(scipy.stats.spearmanr(tot_overlap_list,tot_resnik_list)) # Spearman's rho"
   ]
  },
  {
   "cell_type": "code",
   "execution_count": null,
   "id": "307ff155",
   "metadata": {},
   "outputs": [],
   "source": [
    "#Correlation coefficient between JI and Resnik score considering all exposures\n",
    "from matplotlib.pyplot import figure\n",
    "import scipy  \n",
    "from scipy import stats\n",
    "fig, ax = plt.subplots(figsize=(15,15))\n",
    "\n",
    "slope, intercept, r, p, stderr = scipy.stats.linregress(tot_overlap_list, tot_resnik_list)\n",
    "\n",
    "ax.plot(tot_overlap_list,tot_resnik_list, linewidth=0, marker='s', c='k',label='Exposure pair', alpha=0.4)\n",
    "#y=[]\n",
    "#for i in tot_overlap_list:\n",
    "#    g=(intercept + slope * i)\n",
    "#    y.append(g)\n",
    "#line = \"Regression line\" \n",
    "ax.spines['top'].set_visible(False)\n",
    "ax.spines['right'].set_visible(False)\n",
    "ax.spines['bottom'].set_visible(True)\n",
    "ax.spines['left'].set_visible(True)\n",
    "#ax.plot(tot_overlap_list, y, label=line,linewidth=5)\n",
    "plt.xticks(fontsize=36) \n",
    "plt.yticks(fontsize=36) \n",
    "#plt.title('Total correlation between Resnik and Genetic overlap' )\n",
    "ax.legend(facecolor='white',fontsize=36)\n",
    "import matplotlib\n",
    "matplotlib.pyplot.rcParams.update({\n",
    "    \"pgf.preamble\": [\n",
    "         \"\\\\usepackage{arev}\",\n",
    "        \"\\\\usepackage[T1]{fontenc}\"]\n",
    "})\n",
    "\n",
    "#plt.savefig('output/Figures/SF4B.pdf',format='pdf',dpi=300, bbox_inches = \"tight\")\n",
    "\n",
    "\n",
    "#plt.show()"
   ]
  },
  {
   "cell_type": "code",
   "execution_count": null,
   "id": "72097bbf",
   "metadata": {},
   "outputs": [],
   "source": []
  },
  {
   "cell_type": "code",
   "execution_count": 5,
   "id": "f41e3b74",
   "metadata": {},
   "outputs": [],
   "source": [
    "tanimoto_list=[]\n",
    "overlap_list=[]\n",
    "for k,v in chem_tanimoto_dict.items():\n",
    "    tanimoto_list.append(v)\n",
    "    overlap_list.append(tot_overlap[k])"
   ]
  },
  {
   "cell_type": "code",
   "execution_count": 6,
   "id": "68f89dff",
   "metadata": {},
   "outputs": [
    {
     "name": "stdout",
     "output_type": "stream",
     "text": [
      "PearsonRResult(statistic=0.03580407252724335, pvalue=0.0)\n",
      "SignificanceResult(statistic=-0.0008804046410183891, pvalue=1.2971655228677776e-05)\n"
     ]
    }
   ],
   "source": [
    "import scipy  \n",
    "from scipy import stats\n",
    "print(scipy.stats.pearsonr(tanimoto_list,overlap_list))  # Pearson's r\n",
    "print(scipy.stats.spearmanr(tanimoto_list,overlap_list)) # Spearman's rho"
   ]
  },
  {
   "cell_type": "code",
   "execution_count": null,
   "id": "c94337bf",
   "metadata": {},
   "outputs": [],
   "source": []
  }
 ],
 "metadata": {
  "kernelspec": {
   "display_name": "Python 3 (ipykernel)",
   "language": "python",
   "name": "python3"
  },
  "language_info": {
   "codemirror_mode": {
    "name": "ipython",
    "version": 3
   },
   "file_extension": ".py",
   "mimetype": "text/x-python",
   "name": "python",
   "nbconvert_exporter": "python",
   "pygments_lexer": "ipython3",
   "version": "3.11.8"
  }
 },
 "nbformat": 4,
 "nbformat_minor": 5
}
