{
 "cells": [
  {
   "cell_type": "code",
   "execution_count": 1,
   "metadata": {},
   "outputs": [
    {
     "name": "stdout",
     "output_type": "stream",
     "text": [
      "18815\n",
      "482935\n"
     ]
    }
   ],
   "source": [
    "## import os\n",
    "import sys\n",
    "import numpy as np\n",
    "import networkx as nx\n",
    "import itertools as it\n",
    "import random as rd\n",
    "import pickle as pk\n",
    "import os.path\n",
    "import pandas as pd\n",
    "from collections import (defaultdict,Counter)\n",
    "import time\n",
    "import matplotlib.pyplot as plt\n",
    "# %matplotlib inline\n",
    "\n",
    "chem_vocabolary = pd.read_csv(\"input/CTD/CTD_chemicals_cleaned.txt\",delimiter= '\\t',\n",
    "           skipinitialspace=True)\n",
    "\n",
    "chem_gene_df = pd.read_csv(\"input/CTD/CTD_chem_gene_ixns.tsv\",delimiter= '\\t',\n",
    "            skipinitialspace=True)\n",
    "\n",
    "chem_homo = chem_gene_df[(chem_gene_df['Organism'] == 'Homo sapiens')]\n",
    "\n",
    "chem_gene = {}\n",
    "for i,v in chem_homo.iterrows():\n",
    "    try:\n",
    "        chem_gene[v[\"ChemicalID\"]] |= {v[\"GeneSymbol\"]}\n",
    "    except KeyError as e:\n",
    "        chem_gene[v[\"ChemicalID\"]] = set([v[\"GeneSymbol\"]])\n",
    "\n",
    "#Here, we remove the elements that do not perturb any genes:\n",
    "chem_gene_cleaned = {}\n",
    "tot_gene_list=[]\n",
    "for k,v in chem_gene.items():\n",
    "    if len(v)>0:\n",
    "        chem_gene_cleaned[k]=v\n",
    "        for gene in v:\n",
    "            tot_gene_list.append(gene)\n",
    "    else:\n",
    "        pass\n",
    "\n",
    "\n",
    "chem_voc_dict = {}\n",
    "for i,v in chem_vocabolary.iterrows():\n",
    "    try:\n",
    "        chem_voc_dict[v[\"ChemicalID\"]] = v[\"ParentIDs\"].split(\"|\")\n",
    "    except:\n",
    "        chem_voc_dict[v[\"ChemicalID\"]] = v[\"ParentIDs\"]\n",
    "\n",
    "from collections.abc import Mapping\n",
    "# Empty directed graph\n",
    "G = nx.DiGraph()\n",
    "\n",
    "for k in chem_voc_dict.keys():\n",
    "    try:\n",
    "        for v in chem_voc_dict[k]:\n",
    "            G.add_edge(k, v)\n",
    "    except:\n",
    "        G.add_edge(k,\"D\")\n",
    "\n",
    "classes_list=[]\n",
    "for i in G.nodes():\n",
    "    if len(nx.predecessor(G, i))==2:\n",
    "        classes_list.append(i)\n",
    "\n",
    "#Let's clean the list from the nan elements\n",
    "classes_list_cleaned = [x for x in classes_list if str(x) != 'nan']\n",
    "\n",
    "#Let's associate a specific color for each chemical group\n",
    "colors=['#D52EBF','#FFA1FF','#49CDAB','#AB9DF6','#7F41FF','#B74C6B','#00D99D','#43C9C2','#00F9FA','#DD66BD','#437FC2','#4BCDFF'] \n",
    "class_color_dict={}\n",
    "for i in range(len(classes_list_cleaned)):\n",
    "    class_color_dict[classes_list_cleaned[i]]=colors[i]\n",
    "    \n",
    "ppi = pd.read_csv(\"input/PPI/autocore_symbol_lcc.csv\",delimiter= ',',\n",
    "           skipinitialspace=True)\n",
    "\n",
    "G_ppi = nx.from_pandas_edgelist(ppi, 'symbol1', 'symbol2')\n",
    "\n",
    "G_ppi_lcc = G_ppi.subgraph(max(nx.connected_components(G_ppi), key=len))  # extract lcc graph\n",
    "print(G_ppi_lcc.number_of_nodes())\n",
    "print(G_ppi_lcc.number_of_edges())\n",
    "\n",
    "chem_gene_dictio_cleaned_ppi={}\n",
    "for k,v in chem_gene_cleaned.items():\n",
    "    new_list=[]\n",
    "    for gene in v:\n",
    "        if gene in G_ppi_lcc.nodes():\n",
    "            new_list.append(gene)\n",
    "        else:\n",
    "            pass\n",
    "    if len(new_list)>0:\n",
    "        chem_gene_dictio_cleaned_ppi[k]=new_list\n",
    "    else:\n",
    "        pass\n",
    "\n",
    "\n"
   ]
  },
  {
   "cell_type": "code",
   "execution_count": 2,
   "metadata": {},
   "outputs": [],
   "source": [
    "#Let's import the EEN\n",
    "final_backbone_exp_graph_significant_combo_df = pd.read_csv(\"output/final_backbone_exp_graph_significant_combo_df.tsv\", sep=\"\\t\",index_col=0)\n",
    "backbone_ss_exposure_network = nx.from_pandas_edgelist(final_backbone_exp_graph_significant_combo_df, 'Exp A', 'Exp B')\n"
   ]
  },
  {
   "cell_type": "code",
   "execution_count": 3,
   "metadata": {},
   "outputs": [
    {
     "data": {
      "text/plain": [
       "9852"
      ]
     },
     "execution_count": 3,
     "metadata": {},
     "output_type": "execute_result"
    }
   ],
   "source": [
    "len(chem_gene_dictio_cleaned_ppi)"
   ]
  },
  {
   "cell_type": "code",
   "execution_count": null,
   "metadata": {},
   "outputs": [],
   "source": [
    "import math\n",
    "exposome_zscore={}\n",
    "\n",
    "for exp in chem_gene_dictio_cleaned_ppi.keys():\n",
    "    geneset = set(chem_gene_dictio_cleaned_ppi[exp])\n",
    "\n",
    "    G_sub = nx.subgraph(G_ppi_lcc,geneset)\n",
    "\n",
    "    G_sub_lcc = G_sub.subgraph(max(nx.connected_components(G_sub), key=len))  # extract lcc graph\n",
    "\n",
    "\n",
    "    f_lcc_size = G_sub_lcc.number_of_nodes()\n",
    "    l_random_lccs = []\n",
    "\n",
    "    S = 1000\n",
    "    for s in range(S):\n",
    "        gene_sample = rd.sample(G_ppi_lcc.nodes(),len(geneset))\n",
    "        G_sub_rnd = nx.subgraph(G_ppi_lcc,gene_sample)\n",
    "\n",
    "        G_sub_rnd_lcc = G_sub_rnd.subgraph(max(nx.connected_components(G_sub_rnd), key=len))  # extract lcc graph\n",
    "        lcc_size = G_sub_rnd_lcc.number_of_nodes()\n",
    "        l_random_lccs.append(lcc_size)\n",
    "    mu = np.mean(l_random_lccs)\n",
    "    std = np.std(l_random_lccs)\n",
    "\n",
    "    z = round(((f_lcc_size-mu)/std),3)\n",
    "\n",
    "\n",
    "    exposome_zscore[exp]=z\n",
    "\n",
    "with open('intermediate/exposome_zscore.pickle', 'wb') as handle:\n",
    "    pk.dump(exposome_zscore, handle, protocol=pk.HIGHEST_PROTOCOL)"
   ]
  },
  {
   "cell_type": "code",
   "execution_count": 4,
   "metadata": {},
   "outputs": [],
   "source": [
    "#We are importing here the dictionary that correspnds for each chemical a \n",
    "#z-score based on their connectivity (if exposure tends to perturb a well\n",
    "#localized neighborhood they will have a higher z-score)\n",
    "import pickle as pk\n",
    "with open('intermediate/exposome_zscore.pickle', 'rb') as handle:\n",
    "    exposome_zscore = pk.load(handle)"
   ]
  },
  {
   "cell_type": "code",
   "execution_count": 9,
   "metadata": {},
   "outputs": [
    {
     "name": "stderr",
     "output_type": "stream",
     "text": [
      "<ipython-input-9-e3802fb73463>:24: RuntimeWarning: invalid value encountered in double_scalars\n",
      "  z = round(((f_lcc_size-mu)/std),3)\n"
     ]
    }
   ],
   "source": [
    "add_exp_zscore={}\n",
    "for exp,z in exposome_zscore.items():\n",
    "    if str(z)==\"nan\" or str(z)==\"inf\":\n",
    "        if len(chem_gene_dictio_cleaned_ppi[exp])>1:\n",
    "            geneset = set(chem_gene_dictio_cleaned_ppi[exp])\n",
    "\n",
    "            G_sub = nx.subgraph(G_ppi_lcc,geneset)\n",
    "            G_sub_lcc = G_sub.subgraph(max(nx.connected_components(G_sub), key=len))  # extract lcc graph\n",
    "            \n",
    "            f_lcc_size = G_sub_lcc.number_of_nodes()\n",
    "            l_random_lccs = []\n",
    "\n",
    "            S = 1000\n",
    "            for s in range(S):\n",
    "                gene_sample = rd.sample(G_ppi_lcc.nodes(),len(geneset))\n",
    "                G_sub_rnd = nx.subgraph(G_ppi_lcc,gene_sample)\n",
    "\n",
    "                G_sub_rnd_lcc = G_sub_rnd.subgraph(max(nx.connected_components(G_sub_rnd), key=len))  # extract lcc graph\n",
    "                lcc_size = G_sub_rnd_lcc.number_of_nodes()\n",
    "                l_random_lccs.append(lcc_size)\n",
    "            mu = np.mean(l_random_lccs)\n",
    "            std = np.std(l_random_lccs)\n",
    "\n",
    "            z = round(((f_lcc_size-mu)/std),3)\n",
    "            add_exp_zscore[exp]=z\n"
   ]
  },
  {
   "cell_type": "code",
   "execution_count": 11,
   "metadata": {},
   "outputs": [],
   "source": [
    "#Let's do it one more time (the last one)\n",
    "add_add_exp_zscore={}\n",
    "for exp,z in add_exp_zscore.items():\n",
    "    if str(z)==\"nan\" or str(z)==\"inf\":\n",
    "        if len(chem_gene_dictio_cleaned_ppi[exp])>1:\n",
    "            geneset = set(chem_gene_dictio_cleaned_ppi[exp])\n",
    "\n",
    "            G_sub = nx.subgraph(G_ppi_lcc,geneset)\n",
    "            G_sub_lcc = G_sub.subgraph(max(nx.connected_components(G_sub), key=len))  # extract lcc graph\n",
    "            \n",
    "            f_lcc_size = G_sub_lcc.number_of_nodes()\n",
    "            l_random_lccs = []\n",
    "\n",
    "            S = 1000\n",
    "            for s in range(S):\n",
    "                gene_sample = rd.sample(G_ppi_lcc.nodes(),len(geneset))\n",
    "                G_sub_rnd = nx.subgraph(G_ppi_lcc,gene_sample)\n",
    "\n",
    "                G_sub_rnd_lcc = G_sub_rnd.subgraph(max(nx.connected_components(G_sub_rnd), key=len))  # extract lcc graph\n",
    "                lcc_size = G_sub_rnd_lcc.number_of_nodes()\n",
    "                l_random_lccs.append(lcc_size)\n",
    "            mu = np.mean(l_random_lccs)\n",
    "            std = np.std(l_random_lccs)\n",
    "\n",
    "            z = round(((f_lcc_size-mu)/std),3)\n",
    "            add_add_exp_zscore[exp]=z\n"
   ]
  },
  {
   "cell_type": "code",
   "execution_count": 14,
   "metadata": {},
   "outputs": [],
   "source": [
    "#Let's make a final z-score dict\n",
    "final_exposome_zscore={}\n",
    "for exp,z in exposome_zscore.items():\n",
    "    if len(chem_gene_dictio_cleaned_ppi[exp])>1:   #I remove those exposures that perturb just one gene\n",
    "        if str(z)!=\"nan\" and str(z)!=\"inf\":\n",
    "            final_exposome_zscore[exp]=z\n",
    "        else:\n",
    "            if str(add_exp_zscore[exp])!=\"nan\" and str(add_exp_zscore[exp])!=\"inf\":\n",
    "                final_exposome_zscore[exp]=add_exp_zscore[exp]\n",
    "            else:\n",
    "                final_exposome_zscore[exp]=add_add_exp_zscore[exp]"
   ]
  },
  {
   "cell_type": "code",
   "execution_count": 15,
   "metadata": {},
   "outputs": [
    {
     "data": {
      "text/plain": [
       "7177"
      ]
     },
     "execution_count": 15,
     "metadata": {},
     "output_type": "execute_result"
    }
   ],
   "source": [
    "len(final_exposome_zscore)"
   ]
  },
  {
   "cell_type": "code",
   "execution_count": 16,
   "metadata": {},
   "outputs": [],
   "source": [
    "with open('intermediate/final_exposome_zscore.pickle', 'wb') as handle:\n",
    "    pk.dump(final_exposome_zscore, handle, protocol=pk.HIGHEST_PROTOCOL)"
   ]
  },
  {
   "cell_type": "code",
   "execution_count": 5,
   "metadata": {},
   "outputs": [],
   "source": [
    "#Lets import it\n",
    "with open('intermediate/final_exposome_zscore.pickle', 'rb') as handle:\n",
    "    final_exposome_zscore = pk.load(handle)"
   ]
  },
  {
   "cell_type": "code",
   "execution_count": null,
   "metadata": {},
   "outputs": [],
   "source": [
    "#Let's look at the lcc z-score distribution of the final_exposome_zscore "
   ]
  },
  {
   "cell_type": "code",
   "execution_count": 18,
   "metadata": {},
   "outputs": [
    {
     "data": {
      "text/plain": [
       "<matplotlib.collections.LineCollection at 0x7ff407b06e50>"
      ]
     },
     "execution_count": 18,
     "metadata": {},
     "output_type": "execute_result"
    },
    {
     "data": {
      "image/png": "[encoded data removed]",
      "text/plain": [
       "<Figure size 1080x1080 with 1 Axes>"
      ]
     },
     "metadata": {
      "needs_background": "light"
     },
     "output_type": "display_data"
    }
   ],
   "source": [
    "fig, ax = plt.subplots(figsize=(15,15))\n",
    "plt.hist(list(final_exposome_zscore.values()), bins=50, alpha=0.5)\n",
    "\n",
    "ax.spines['top'].set_visible(False)\n",
    "ax.spines['right'].set_visible(False)\n",
    "ax.spines['bottom'].set_visible(True)\n",
    "ax.spines['left'].set_visible(True)\n",
    "#plt.xlabel('z-score',fontsize=22)\n",
    "#plt.ylabel('Frequency', fontsize=22)\n",
    "plt.yscale('log')\n",
    "plt.xticks(fontsize=36) \n",
    "plt.yticks(fontsize=36)\n",
    "plt.vlines(x=2,ymin=0,ymax=4000,color='r',label='statistically significance')\n",
    "#plt.title('Distribution of median degree z-score of geneset perturbed by each exposures', fontsize=28)\n",
    "#plt.savefig('output/Figures/Figure3Cv2.pdf',format='pdf',dpi=300, bbox_inches = \"tight\")\n"
   ]
  },
  {
   "cell_type": "code",
   "execution_count": 20,
   "metadata": {},
   "outputs": [
    {
     "data": {
      "text/plain": [
       "9.717749616831544"
      ]
     },
     "execution_count": 20,
     "metadata": {},
     "output_type": "execute_result"
    }
   ],
   "source": [
    "np.mean(list(final_exposome_zscore.values()))"
   ]
  },
  {
   "cell_type": "code",
   "execution_count": 21,
   "metadata": {},
   "outputs": [
    {
     "data": {
      "text/plain": [
       "8.392"
      ]
     },
     "execution_count": 21,
     "metadata": {},
     "output_type": "execute_result"
    }
   ],
   "source": [
    "np.median(list(final_exposome_zscore.values()))"
   ]
  },
  {
   "cell_type": "code",
   "execution_count": null,
   "metadata": {},
   "outputs": [],
   "source": [
    "#Let's compare now with the performance given by the communities"
   ]
  },
  {
   "cell_type": "code",
   "execution_count": 6,
   "metadata": {},
   "outputs": [],
   "source": [
    "#Let's import the renamed communities\n",
    "\n",
    "with open('output/Communities/Louvain/fine_grained_communities_dict.pickle', 'rb') as handle:\n",
    "    fine_grained_communities_dict = pk.load(handle)\n",
    "with open('output/Communities/Louvain/middle_communities_dict.pickle', 'rb') as handle:\n",
    "    middle_communities_dict = pk.load(handle)\n",
    "with open('output/Communities/Louvain/broad_communities_dict.pickle', 'rb') as handle:\n",
    "    broad_communities_dict = pk.load(handle)"
   ]
  },
  {
   "cell_type": "code",
   "execution_count": 29,
   "metadata": {},
   "outputs": [
    {
     "name": "stderr",
     "output_type": "stream",
     "text": [
      "/var/folders/0b/z0_jtrl111x5sn006y224x0w0000gq/T/ipykernel_89210/2620050837.py:34: RuntimeWarning: invalid value encountered in scalar divide\n",
      "  z = round(((f_lcc_size-mu)/std),3)\n",
      "/var/folders/0b/z0_jtrl111x5sn006y224x0w0000gq/T/ipykernel_89210/2620050837.py:34: RuntimeWarning: divide by zero encountered in scalar divide\n",
      "  z = round(((f_lcc_size-mu)/std),3)\n"
     ]
    }
   ],
   "source": [
    "import math\n",
    "import random as rd\n",
    "fine_grained_communities_lcc_zscore={}\n",
    "fine_grained_communities_genes_ppi={}\n",
    "for com,exp_list in fine_grained_communities_dict.items():\n",
    "    genelist=[]\n",
    "    for exp in exp_list:\n",
    "        try:\n",
    "            genelist.extend(chem_gene_dictio_cleaned_ppi[exp])\n",
    "        except:\n",
    "            pass\n",
    "    fine_grained_communities_genes_ppi[com]=set(genelist)\n",
    "    \n",
    "for com,geneset in fine_grained_communities_genes_ppi.items():\n",
    "    try:\n",
    "        G_sub = nx.subgraph(G_ppi_lcc,geneset)\n",
    "        G_sub_lcc = G_sub.subgraph(max(nx.connected_components(G_sub), key=len))  # extract lcc graph\n",
    "\n",
    "\n",
    "        f_lcc_size = G_sub_lcc.number_of_nodes()\n",
    "        l_random_lccs = []\n",
    "\n",
    "        S = 1000\n",
    "        for s in range(S):\n",
    "            gene_sample = rd.sample(list(G_ppi_lcc.nodes()),len(geneset))\n",
    "            G_sub_rnd = nx.subgraph(G_ppi_lcc,gene_sample)\n",
    "\n",
    "            G_sub_rnd_lcc = G_sub_rnd.subgraph(max(nx.connected_components(G_sub_rnd), key=len))  # extract lcc graph\n",
    "            lcc_size = G_sub_rnd_lcc.number_of_nodes()\n",
    "            l_random_lccs.append(lcc_size)\n",
    "        mu = np.mean(l_random_lccs)\n",
    "        std = np.std(l_random_lccs)\n",
    "\n",
    "        z = round(((f_lcc_size-mu)/std),3)\n",
    "    except:\n",
    "        z = 'nan'\n",
    "\n",
    "    fine_grained_communities_lcc_zscore[com]=z"
   ]
  },
  {
   "cell_type": "code",
   "execution_count": 30,
   "metadata": {},
   "outputs": [
    {
     "data": {
      "text/plain": [
       "405"
      ]
     },
     "execution_count": 30,
     "metadata": {},
     "output_type": "execute_result"
    }
   ],
   "source": [
    "len(fine_grained_communities_lcc_zscore)"
   ]
  },
  {
   "cell_type": "code",
   "execution_count": 32,
   "metadata": {},
   "outputs": [],
   "source": [
    "for com,z in fine_grained_communities_lcc_zscore.items():\n",
    "    if str(z)=='nan':\n",
    "        geneset=fine_grained_communities_genes_ppi[com]\n",
    "        if len(geneset)>3:\n",
    "            try:\n",
    "                G_sub = nx.subgraph(G_ppi_lcc,geneset)\n",
    "                G_sub_lcc = G_sub.subgraph(max(nx.connected_components(G_sub), key=len))  # extract lcc graph\n",
    "                f_lcc_size = G_sub_lcc.number_of_nodes()\n",
    "                l_random_lccs = []\n",
    "\n",
    "                S = 1000\n",
    "                for s in range(S):\n",
    "                    gene_sample = rd.sample(list(G_ppi_lcc.nodes()),len(geneset))\n",
    "                    G_sub_rnd = nx.subgraph(G_ppi_lcc,gene_sample)\n",
    "\n",
    "                    G_sub_rnd_lcc = G_sub_rnd.subgraph(max(nx.connected_components(G_sub_rnd), key=len))  # extract lcc graph\n",
    "                    lcc_size = G_sub_rnd_lcc.number_of_nodes()\n",
    "                    l_random_lccs.append(lcc_size)\n",
    "                mu = np.mean(l_random_lccs)\n",
    "                std = np.std(l_random_lccs)\n",
    "\n",
    "                z = round(((f_lcc_size-mu)/std),3)\n",
    "            except:\n",
    "                z = 'nan'\n",
    "        fine_grained_communities_lcc_zscore[com]=z\n",
    "    else:\n",
    "        pass\n",
    "    "
   ]
  },
  {
   "cell_type": "code",
   "execution_count": 34,
   "metadata": {},
   "outputs": [
    {
     "name": "stderr",
     "output_type": "stream",
     "text": [
      "/var/folders/0b/z0_jtrl111x5sn006y224x0w0000gq/T/ipykernel_89210/2237103113.py:34: RuntimeWarning: invalid value encountered in scalar divide\n",
      "  z = round(((f_lcc_size-mu)/std),3)\n"
     ]
    }
   ],
   "source": [
    "import math\n",
    "import random as rd\n",
    "middle_communities_lcc_zscore={}\n",
    "middle_communities_genes_ppi={}\n",
    "for com,exp_list in middle_communities_dict.items():\n",
    "    genelist=[]\n",
    "    for exp in exp_list:\n",
    "        try:\n",
    "            genelist.extend(chem_gene_dictio_cleaned_ppi[exp])\n",
    "        except:\n",
    "            pass\n",
    "    middle_communities_genes_ppi[com]=set(genelist)\n",
    "    \n",
    "for com,geneset in middle_communities_genes_ppi.items():\n",
    "    try:\n",
    "        G_sub = nx.subgraph(G_ppi_lcc,geneset)\n",
    "        G_sub_lcc = G_sub.subgraph(max(nx.connected_components(G_sub), key=len))  # extract lcc graph\n",
    "\n",
    "\n",
    "        f_lcc_size = G_sub_lcc.number_of_nodes()\n",
    "        l_random_lccs = []\n",
    "\n",
    "        S = 1000\n",
    "        for s in range(S):\n",
    "            gene_sample = rd.sample(list(G_ppi_lcc.nodes()),len(geneset))\n",
    "            G_sub_rnd = nx.subgraph(G_ppi_lcc,gene_sample)\n",
    "\n",
    "            G_sub_rnd_lcc = G_sub_rnd.subgraph(max(nx.connected_components(G_sub_rnd), key=len))  # extract lcc graph\n",
    "            lcc_size = G_sub_rnd_lcc.number_of_nodes()\n",
    "            l_random_lccs.append(lcc_size)\n",
    "        mu = np.mean(l_random_lccs)\n",
    "        std = np.std(l_random_lccs)\n",
    "\n",
    "        z = round(((f_lcc_size-mu)/std),3)\n",
    "    except:\n",
    "        z = 'nan'\n",
    "\n",
    "    middle_communities_lcc_zscore[com]=z"
   ]
  },
  {
   "cell_type": "code",
   "execution_count": 35,
   "metadata": {},
   "outputs": [],
   "source": [
    "for com,z in middle_communities_lcc_zscore.items():\n",
    "    if str(z)=='nan':\n",
    "        geneset=middle_communities_genes_ppi[com]\n",
    "        if len(geneset)>3:\n",
    "            try:\n",
    "                G_sub = nx.subgraph(G_ppi_lcc,geneset)\n",
    "                G_sub_lcc = G_sub.subgraph(max(nx.connected_components(G_sub), key=len))  # extract lcc graph\n",
    "                f_lcc_size = G_sub_lcc.number_of_nodes()\n",
    "                l_random_lccs = []\n",
    "\n",
    "                S = 1000\n",
    "                for s in range(S):\n",
    "                    gene_sample = rd.sample(list(G_ppi_lcc.nodes()),len(geneset))\n",
    "                    G_sub_rnd = nx.subgraph(G_ppi_lcc,gene_sample)\n",
    "\n",
    "                    G_sub_rnd_lcc = G_sub_rnd.subgraph(max(nx.connected_components(G_sub_rnd), key=len))  # extract lcc graph\n",
    "                    lcc_size = G_sub_rnd_lcc.number_of_nodes()\n",
    "                    l_random_lccs.append(lcc_size)\n",
    "                mu = np.mean(l_random_lccs)\n",
    "                std = np.std(l_random_lccs)\n",
    "\n",
    "                z = round(((f_lcc_size-mu)/std),3)\n",
    "            except:\n",
    "                z = 'nan'\n",
    "        middle_communities_lcc_zscore[com]=z\n",
    "    else:\n",
    "        pass"
   ]
  },
  {
   "cell_type": "code",
   "execution_count": 36,
   "metadata": {},
   "outputs": [],
   "source": [
    "import math\n",
    "import random as rd\n",
    "broad_communities_lcc_zscore={}\n",
    "broad_communities_genes_ppi={}\n",
    "for com,exp_list in broad_communities_dict.items():\n",
    "    genelist=[]\n",
    "    for exp in exp_list:\n",
    "        try:\n",
    "            genelist.extend(chem_gene_dictio_cleaned_ppi[exp])\n",
    "        except:\n",
    "            pass\n",
    "    broad_communities_genes_ppi[com]=set(genelist)\n",
    "    \n",
    "for com,geneset in broad_communities_genes_ppi.items():\n",
    "    try:\n",
    "        G_sub = nx.subgraph(G_ppi_lcc,geneset)\n",
    "        G_sub_lcc = G_sub.subgraph(max(nx.connected_components(G_sub), key=len))  # extract lcc graph\n",
    "\n",
    "\n",
    "        f_lcc_size = G_sub_lcc.number_of_nodes()\n",
    "        l_random_lccs = []\n",
    "\n",
    "        S = 1000\n",
    "        for s in range(S):\n",
    "            gene_sample = rd.sample(list(G_ppi_lcc.nodes()),len(geneset))\n",
    "            G_sub_rnd = nx.subgraph(G_ppi_lcc,gene_sample)\n",
    "\n",
    "            G_sub_rnd_lcc = G_sub_rnd.subgraph(max(nx.connected_components(G_sub_rnd), key=len))  # extract lcc graph\n",
    "            lcc_size = G_sub_rnd_lcc.number_of_nodes()\n",
    "            l_random_lccs.append(lcc_size)\n",
    "        mu = np.mean(l_random_lccs)\n",
    "        std = np.std(l_random_lccs)\n",
    "\n",
    "        z = round(((f_lcc_size-mu)/std),3)\n",
    "    except:\n",
    "        z = 'nan'\n",
    "\n",
    "    broad_communities_lcc_zscore[com]=z"
   ]
  },
  {
   "cell_type": "code",
   "execution_count": 37,
   "metadata": {},
   "outputs": [],
   "source": [
    "for com,z in broad_communities_lcc_zscore.items():\n",
    "    if str(z)=='nan':\n",
    "        geneset=broad_communities_genes_ppi[com]\n",
    "        if len(geneset)>3:\n",
    "            try:\n",
    "                G_sub = nx.subgraph(G_ppi_lcc,geneset)\n",
    "                G_sub_lcc = G_sub.subgraph(max(nx.connected_components(G_sub), key=len))  # extract lcc graph\n",
    "                f_lcc_size = G_sub_lcc.number_of_nodes()\n",
    "                l_random_lccs = []\n",
    "\n",
    "                S = 1000\n",
    "                for s in range(S):\n",
    "                    gene_sample = rd.sample(list(G_ppi_lcc.nodes()),len(geneset))\n",
    "                    G_sub_rnd = nx.subgraph(G_ppi_lcc,gene_sample)\n",
    "\n",
    "                    G_sub_rnd_lcc = G_sub_rnd.subgraph(max(nx.connected_components(G_sub_rnd), key=len))  # extract lcc graph\n",
    "                    lcc_size = G_sub_rnd_lcc.number_of_nodes()\n",
    "                    l_random_lccs.append(lcc_size)\n",
    "                mu = np.mean(l_random_lccs)\n",
    "                std = np.std(l_random_lccs)\n",
    "\n",
    "                z = round(((f_lcc_size-mu)/std),3)\n",
    "            except:\n",
    "                z = 'nan'\n",
    "        broad_communities_lcc_zscore[com]=z\n",
    "    else:\n",
    "        pass"
   ]
  },
  {
   "cell_type": "code",
   "execution_count": 39,
   "metadata": {},
   "outputs": [],
   "source": [
    "lcc_zscore_df=pd.DataFrame()\n",
    "\n",
    "category_list=[]\n",
    "zscore_list=[]\n",
    "for z in [v for v in final_exposome_zscore.values() if str(v)!='nan' and str(v)!='inf']:\n",
    "    zscore_list.append(z)\n",
    "    category_list.append(\"all exposures\")\n",
    " \n",
    "for z in [v for v in fine_grained_communities_lcc_zscore.values() if str(v)!='nan' and str(v)!='inf']:\n",
    "    zscore_list.append(z)\n",
    "    category_list.append(\"fine-grained\")\n",
    "\n",
    "for z in [v for v in middle_communities_lcc_zscore.values() if str(v)!='nan' and str(v)!='inf']:\n",
    "    zscore_list.append(z)\n",
    "    category_list.append(\"intermediate\")   \n",
    "    \n",
    "for z in [v for v in broad_communities_lcc_zscore.values() if str(v)!='nan' and str(v)!='inf']:\n",
    "    zscore_list.append(z)\n",
    "    category_list.append(\"broad\")    \n",
    "\n",
    "lcc_zscore_df['group']=category_list\n",
    "lcc_zscore_df['z-score']=zscore_list"
   ]
  },
  {
   "cell_type": "code",
   "execution_count": 54,
   "metadata": {},
   "outputs": [
    {
     "data": {
      "image/png": "[encoded data removed]",
      "text/plain": [
       "<Figure size 640x480 with 5 Axes>"
      ]
     },
     "metadata": {},
     "output_type": "display_data"
    }
   ],
   "source": [
    "from joypy import joyplot\n",
    "import seaborn as sns\n",
    "\n",
    "joyplot(lcc_zscore_df, by='group', column='z-score',colormap=sns.color_palette(\"crest\", as_cmap=True));\n",
    "\n",
    "plt.xlabel('z-score');\n",
    "plt.vlines(x=2,ymin=0,ymax=1,color='r',label='statistically significance',zorder=10);\n",
    "plt.savefig('output/Figures/Figure3Dv2.pdf',format='pdf',dpi=300, bbox_inches = \"tight\")\n",
    "plt.show()"
   ]
  },
  {
   "cell_type": "code",
   "execution_count": 66,
   "metadata": {},
   "outputs": [
    {
     "data": {
      "text/plain": [
       "9.717749616831544"
      ]
     },
     "execution_count": 66,
     "metadata": {},
     "output_type": "execute_result"
    }
   ],
   "source": [
    "np.mean([v for v in final_exposome_zscore.values() if str(v)!='nan' and str(v)!='inf'])"
   ]
  },
  {
   "cell_type": "code",
   "execution_count": 67,
   "metadata": {},
   "outputs": [
    {
     "data": {
      "text/plain": [
       "7.576273015873017"
      ]
     },
     "execution_count": 67,
     "metadata": {},
     "output_type": "execute_result"
    }
   ],
   "source": [
    "np.mean([v for v in fine_grained_communities_lcc_zscore.values() if str(v)!='nan' and str(v)!='inf'])"
   ]
  },
  {
   "cell_type": "code",
   "execution_count": 68,
   "metadata": {},
   "outputs": [
    {
     "data": {
      "text/plain": [
       "7.062904761904762"
      ]
     },
     "execution_count": 68,
     "metadata": {},
     "output_type": "execute_result"
    }
   ],
   "source": [
    "np.mean([v for v in middle_communities_lcc_zscore.values() if str(v)!='nan' and str(v)!='inf'])"
   ]
  },
  {
   "cell_type": "code",
   "execution_count": 69,
   "metadata": {},
   "outputs": [
    {
     "data": {
      "text/plain": [
       "7.505"
      ]
     },
     "execution_count": 69,
     "metadata": {},
     "output_type": "execute_result"
    }
   ],
   "source": [
    "\n",
    "np.mean([v for v in broad_communities_lcc_zscore.values() if str(v)!='nan' and str(v)!='inf'])"
   ]
  },
  {
   "cell_type": "code",
   "execution_count": 70,
   "metadata": {},
   "outputs": [
    {
     "data": {
      "text/plain": [
       "5023"
      ]
     },
     "execution_count": 70,
     "metadata": {},
     "output_type": "execute_result"
    }
   ],
   "source": [
    "len([v for v in final_exposome_zscore.values() if v>2])"
   ]
  },
  {
   "cell_type": "code",
   "execution_count": 73,
   "metadata": {},
   "outputs": [
    {
     "data": {
      "text/plain": [
       "226"
      ]
     },
     "execution_count": 73,
     "metadata": {},
     "output_type": "execute_result"
    }
   ],
   "source": [
    "len([v for v in fine_grained_communities_lcc_zscore.values() if float(v)>2])"
   ]
  },
  {
   "cell_type": "code",
   "execution_count": 74,
   "metadata": {},
   "outputs": [
    {
     "data": {
      "text/plain": [
       "35"
      ]
     },
     "execution_count": 74,
     "metadata": {},
     "output_type": "execute_result"
    }
   ],
   "source": [
    "len([v for v in middle_communities_lcc_zscore.values() if float(v)>2])"
   ]
  },
  {
   "cell_type": "code",
   "execution_count": 75,
   "metadata": {},
   "outputs": [
    {
     "data": {
      "text/plain": [
       "9"
      ]
     },
     "execution_count": 75,
     "metadata": {},
     "output_type": "execute_result"
    }
   ],
   "source": [
    "len([v for v in broad_communities_lcc_zscore.values() if float(v)>2])"
   ]
  },
  {
   "cell_type": "code",
   "execution_count": 89,
   "metadata": {},
   "outputs": [
    {
     "data": {
      "image/png": "[encoded data removed]",
      "text/plain": [
       "<Figure size 1400x1400 with 1 Axes>"
      ]
     },
     "metadata": {},
     "output_type": "display_data"
    }
   ],
   "source": [
    "#Let's do it again, but this time we plot the number of exposures that are associated with a statistically significant\n",
    "#neighborhood and not those that we lose\n",
    "\n",
    "\n",
    "from matplotlib.ticker import FuncFormatter\n",
    "import matplotlib.pyplot as plt\n",
    "import numpy as np\n",
    "from matplotlib.pyplot import figure\n",
    "from matplotlib.ticker import MaxNLocator\n",
    "fig1, ax1 = plt.subplots(figsize=(14, 14))\n",
    "\n",
    "x = np.arange(2)\n",
    "\n",
    "ax1.spines['top'].set_visible(False)\n",
    "ax1.spines['right'].set_visible(False)\n",
    "ax1.spines['bottom'].set_visible(True)\n",
    "ax1.spines['left'].set_visible(True)\n",
    "\n",
    "not_module_exposure_list=[]\n",
    "tot_backboneexposures=backbone_ss_exposure_network.number_of_nodes()\n",
    "\n",
    "for exp in backbone_ss_exposure_network.nodes():\n",
    "    try:\n",
    "        if float(final_exposome_zscore[exp])<2:\n",
    "            not_module_exposure_list.append(exp)\n",
    "        else:\n",
    "            pass\n",
    "    except:\n",
    "        not_module_exposure_list.append(exp)\n",
    "\n",
    "not_module_exposure_com_list=[]\n",
    "for exp in backbone_ss_exposure_network.nodes():\n",
    "    for com,explist in fine_grained_communities_dict.items():\n",
    "        if exp in explist:\n",
    "            if float(fine_grained_communities_lcc_zscore[com])<2:\n",
    "                for com2,explist2 in middle_communities_dict.items():\n",
    "                    if exp in explist2:\n",
    "                        if float(middle_communities_lcc_zscore[com2])<2:\n",
    "                            for com3,explist3 in broad_communities_dict.items():\n",
    "                                if exp in explist3:\n",
    "                                    if float(broad_communities_lcc_zscore[com3])<2:\n",
    "                                        not_module_exposure_com_list.append(exp)\n",
    "                \n",
    "\n",
    "module_exposure_list_tot=[tot_backboneexposures-len(not_module_exposure_list),tot_backboneexposures-len(not_module_exposure_com_list)]\n",
    "label=['All exposures', 'Community-based']\n",
    "\n",
    "    \n",
    "plt.barh(x, module_exposure_list_tot,color='#5F5F5F')\n",
    "#plt.title('Frequency of exposures rank by their degree',fontsize=32)\n",
    "#plt.ylabel('Frequency',fontsize=20)\n",
    "#plt.xlabel('Number of exposures',fontsize=45)\n",
    "plt.xticks(fontsize=45,rotation=45)\n",
    "plt.yticks(x, label,fontsize=36,ha='right')\n",
    "#plt.yticks([],fontsize=45,rotation=45,ha='right')\n",
    "plt.tight_layout()\n",
    "\n",
    "plt.savefig('output/Figures/Figure3Ev2.pdf',format='pdf',dpi=300, bbox_inches = \"tight\")\n",
    "plt.show()\n",
    "\n"
   ]
  },
  {
   "cell_type": "code",
   "execution_count": null,
   "metadata": {},
   "outputs": [],
   "source": []
  },
  {
   "cell_type": "code",
   "execution_count": 89,
   "metadata": {},
   "outputs": [],
   "source": [
    "#Here, we import the lists of hub exposures, central module exposures, peripheric exposures and no hub no module exposures\n",
    "hub_exposures_list=[]\n",
    "central_module_exposures_list=[]\n",
    "peripheric_module_exposures_list=[]\n",
    "no_central_no_module_exposures_list=[]\n",
    " \n",
    "# Using readlines()\n",
    "file1 = open('output/Hub_expusres.txt', 'r')\n",
    "Lines = file1.readlines()\n",
    "for line in Lines:\n",
    "    hub_exposures_list.append(line.strip(\"\\n\"))\n",
    "\n",
    "# Using readlines()\n",
    "file1 = open('output/Central_module_exposures.txt', 'r')\n",
    "Lines = file1.readlines()\n",
    "for line in Lines:\n",
    "    central_module_exposures_list.append(line.strip(\"\\n\"))\n",
    "    \n",
    "# Using readlines()\n",
    "file1 = open('output/Peripheric_module_exposures.txt', 'r')\n",
    "Lines = file1.readlines()\n",
    "for line in Lines:\n",
    "    peripheric_module_exposures_list.append(line.strip(\"\\n\"))\n",
    "    \n",
    "# Using readlines()\n",
    "file1 = open('output/No_central_no_module_exposures.txt', 'r')\n",
    "Lines = file1.readlines()\n",
    "for line in Lines:\n",
    "    no_central_no_module_exposures_list.append(line.strip(\"\\n\"))"
   ]
  },
  {
   "cell_type": "code",
   "execution_count": null,
   "metadata": {},
   "outputs": [],
   "source": []
  },
  {
   "cell_type": "code",
   "execution_count": 4,
   "metadata": {},
   "outputs": [],
   "source": [
    "#Here we define the 90* percentile of the degree distribution\n",
    "degree_list=[]\n",
    "for i in G_ppi_lcc.nodes():\n",
    "    degree_list.append(G_ppi_lcc.degree[i])\n",
    "a = np.array(degree_list)\n",
    "degree_90percentile = np.percentile(a, 90)"
   ]
  },
  {
   "cell_type": "code",
   "execution_count": 5,
   "metadata": {},
   "outputs": [],
   "source": [
    "#Let's check if an exposure form a module, if it doesn't then we will check if it targets an hub gene\n",
    "hub_exposures={}\n",
    "exp_significant_modules={}\n",
    "for k,v in exposome_zscore.items():\n",
    "    if float(v)>2:\n",
    "        exp_significant_modules[k]=v\n",
    "    else:\n",
    "        geneset=chem_gene_dictio_cleaned_ppi[k]\n",
    "        geneset_degree=[]\n",
    "        for gene in geneset:\n",
    "            geneset_degree.append(G_ppi_lcc.degree[gene])\n",
    "            if any(y > degree_90percentile for y in geneset_degree):\n",
    "                    hub_exposures[k]=v\n",
    "            else:\n",
    "                pass"
   ]
  },
  {
   "cell_type": "code",
   "execution_count": null,
   "metadata": {},
   "outputs": [],
   "source": []
  },
  {
   "cell_type": "code",
   "execution_count": 24,
   "metadata": {},
   "outputs": [],
   "source": [
    "\n",
    "exp_significant_modules_central={}\n",
    "exp_significant_modules_peripheric={}\n",
    "for k,v in exp_significant_modules.items():\n",
    "    geneset=chem_gene_dictio_cleaned_ppi[k]\n",
    "    geneset_degree=[]\n",
    "    for gene in geneset:\n",
    "        geneset_degree.append(G_ppi_lcc.degree[gene])\n",
    "    if any(y > degree_90percentile for y in geneset_degree):\n",
    "        exp_significant_modules_central[k]=v\n",
    "    else:\n",
    "        exp_significant_modules_peripheric[k]=v\n"
   ]
  },
  {
   "cell_type": "code",
   "execution_count": 25,
   "metadata": {},
   "outputs": [],
   "source": [
    "hub_exp_ss_module=set(list(exp_significant_modules.keys())+list(hub_exposures.keys()))"
   ]
  },
  {
   "cell_type": "code",
   "execution_count": 26,
   "metadata": {},
   "outputs": [],
   "source": [
    "no_central_no_module=[]\n",
    "for k,v in exposome_zscore.items():\n",
    "    if k not in hub_exp_ss_module:\n",
    "        no_central_no_module.append(k)"
   ]
  },
  {
   "cell_type": "code",
   "execution_count": 27,
   "metadata": {},
   "outputs": [
    {
     "data": {
      "text/plain": [
       "3370"
      ]
     },
     "execution_count": 27,
     "metadata": {},
     "output_type": "execute_result"
    }
   ],
   "source": [
    "len(set(no_central_no_module))"
   ]
  },
  {
   "cell_type": "code",
   "execution_count": 28,
   "metadata": {},
   "outputs": [],
   "source": [
    "output_file = open('output/No_central_no_module_exposures.txt', 'w')\n",
    "\n",
    "for exp in no_central_no_module:\n",
    "    output_file.write(exp + '\\n')\n",
    "\n",
    "output_file.close()"
   ]
  },
  {
   "cell_type": "code",
   "execution_count": 29,
   "metadata": {},
   "outputs": [],
   "source": [
    "output_file = open('output/Hub_expusres.txt', 'w')\n",
    "\n",
    "for exp in list(hub_exposures.keys()):\n",
    "    output_file.write(exp + '\\n')\n",
    "\n",
    "output_file.close()"
   ]
  },
  {
   "cell_type": "code",
   "execution_count": 30,
   "metadata": {},
   "outputs": [],
   "source": [
    "output_file = open('output/Central_module_exposures.txt', 'w')\n",
    "\n",
    "for exp in list(exp_significant_modules_central.keys()):\n",
    "    output_file.write(exp + '\\n')\n",
    "\n",
    "output_file.close()"
   ]
  },
  {
   "cell_type": "code",
   "execution_count": 31,
   "metadata": {},
   "outputs": [],
   "source": [
    "output_file = open('output/Peripheric_module_exposures.txt', 'w')\n",
    "\n",
    "for exp in list(exp_significant_modules_peripheric.keys()):\n",
    "    output_file.write(exp + '\\n')\n",
    "\n",
    "output_file.close()"
   ]
  },
  {
   "cell_type": "code",
   "execution_count": 42,
   "metadata": {},
   "outputs": [],
   "source": [
    "peripheric_module_exp_zscore=[]\n",
    "peripheric_module_exp=[]\n",
    "for k,v in classes_zscore_peripheric_module.items():\n",
    "    peripheric_module_exp.extend(v)\n",
    "peripheric_module_exp_unique=set(peripheric_module_exp)\n",
    "for exp in peripheric_module_exp_unique:\n",
    "    peripheric_module_exp_zscore.append(exp_significant_modules[exp])"
   ]
  },
  {
   "cell_type": "code",
   "execution_count": 43,
   "metadata": {},
   "outputs": [],
   "source": [
    "central_module_exp_zscore=[]\n",
    "central_module_exp=[]\n",
    "for k,v in classes_zscore_central_module.items():\n",
    "    central_module_exp.extend(v)\n",
    "central_module_exp_unique=set(central_module_exp)\n",
    "for exp in central_module_exp_unique:\n",
    "    central_module_exp_zscore.append(exp_significant_modules[exp])"
   ]
  },
  {
   "cell_type": "code",
   "execution_count": 44,
   "metadata": {},
   "outputs": [
    {
     "data": {
      "image/png": "[encoded data removed]",
      "text/plain": [
       "<Figure size 720x504 with 1 Axes>"
      ]
     },
     "metadata": {
      "needs_background": "light"
     },
     "output_type": "display_data"
    },
    {
     "ename": "AttributeError",
     "evalue": "'NoneType' object has no attribute 'lower'",
     "output_type": "error",
     "traceback": [
      "\u001b[0;31m---------------------------------------------------------------------------\u001b[0m",
      "\u001b[0;31mAttributeError\u001b[0m                            Traceback (most recent call last)",
      "\u001b[0;32m<ipython-input-44-fbbf4ceff8c4>\u001b[0m in \u001b[0;36m<module>\u001b[0;34m\u001b[0m\n\u001b[1;32m     13\u001b[0m \u001b[0;31m# show plot\u001b[0m\u001b[0;34m\u001b[0m\u001b[0;34m\u001b[0m\u001b[0;34m\u001b[0m\u001b[0m\n\u001b[1;32m     14\u001b[0m \u001b[0mplt\u001b[0m\u001b[0;34m.\u001b[0m\u001b[0mshow\u001b[0m\u001b[0;34m(\u001b[0m\u001b[0;34m)\u001b[0m\u001b[0;34m\u001b[0m\u001b[0;34m\u001b[0m\u001b[0m\n\u001b[0;32m---> 15\u001b[0;31m \u001b[0mprint\u001b[0m\u001b[0;34m(\u001b[0m\u001b[0mscipy\u001b[0m\u001b[0;34m.\u001b[0m\u001b[0mstats\u001b[0m\u001b[0;34m.\u001b[0m\u001b[0mmannwhitneyu\u001b[0m\u001b[0;34m(\u001b[0m\u001b[0mcentral_module_exp_zscore\u001b[0m\u001b[0;34m,\u001b[0m \u001b[0mperipheric_module_exp_zscore\u001b[0m\u001b[0;34m,\u001b[0m \u001b[0muse_continuity\u001b[0m\u001b[0;34m=\u001b[0m\u001b[0;32mTrue\u001b[0m\u001b[0;34m,\u001b[0m \u001b[0malternative\u001b[0m\u001b[0;34m=\u001b[0m\u001b[0;32mNone\u001b[0m\u001b[0;34m)\u001b[0m\u001b[0;34m)\u001b[0m\u001b[0;34m\u001b[0m\u001b[0;34m\u001b[0m\u001b[0m\n\u001b[0m",
      "\u001b[0;32m~/opt/anaconda3/lib/python3.8/site-packages/scipy/stats/_mannwhitneyu.py\u001b[0m in \u001b[0;36mmannwhitneyu\u001b[0;34m(x, y, use_continuity, alternative, axis, method)\u001b[0m\n\u001b[1;32m    389\u001b[0m \u001b[0;34m\u001b[0m\u001b[0m\n\u001b[1;32m    390\u001b[0m     x, y, use_continuity, alternative, axis_int, method = (\n\u001b[0;32m--> 391\u001b[0;31m         _mwu_input_validation(x, y, use_continuity, alternative, axis, method))\n\u001b[0m\u001b[1;32m    392\u001b[0m \u001b[0;34m\u001b[0m\u001b[0m\n\u001b[1;32m    393\u001b[0m     \u001b[0mx\u001b[0m\u001b[0;34m,\u001b[0m \u001b[0my\u001b[0m\u001b[0;34m,\u001b[0m \u001b[0mxy\u001b[0m \u001b[0;34m=\u001b[0m \u001b[0m_broadcast_concatenate\u001b[0m\u001b[0;34m(\u001b[0m\u001b[0mx\u001b[0m\u001b[0;34m,\u001b[0m \u001b[0my\u001b[0m\u001b[0;34m,\u001b[0m \u001b[0maxis\u001b[0m\u001b[0;34m)\u001b[0m\u001b[0;34m\u001b[0m\u001b[0;34m\u001b[0m\u001b[0m\n",
      "\u001b[0;32m~/opt/anaconda3/lib/python3.8/site-packages/scipy/stats/_mannwhitneyu.py\u001b[0m in \u001b[0;36m_mwu_input_validation\u001b[0;34m(x, y, use_continuity, alternative, axis, method)\u001b[0m\n\u001b[1;32m    140\u001b[0m \u001b[0;34m\u001b[0m\u001b[0m\n\u001b[1;32m    141\u001b[0m     \u001b[0malternatives\u001b[0m \u001b[0;34m=\u001b[0m \u001b[0;34m{\u001b[0m\u001b[0;34m\"two-sided\"\u001b[0m\u001b[0;34m,\u001b[0m \u001b[0;34m\"less\"\u001b[0m\u001b[0;34m,\u001b[0m \u001b[0;34m\"greater\"\u001b[0m\u001b[0;34m}\u001b[0m\u001b[0;34m\u001b[0m\u001b[0;34m\u001b[0m\u001b[0m\n\u001b[0;32m--> 142\u001b[0;31m     \u001b[0malternative\u001b[0m \u001b[0;34m=\u001b[0m \u001b[0malternative\u001b[0m\u001b[0;34m.\u001b[0m\u001b[0mlower\u001b[0m\u001b[0;34m(\u001b[0m\u001b[0;34m)\u001b[0m\u001b[0;34m\u001b[0m\u001b[0;34m\u001b[0m\u001b[0m\n\u001b[0m\u001b[1;32m    143\u001b[0m     \u001b[0;32mif\u001b[0m \u001b[0malternative\u001b[0m \u001b[0;32mnot\u001b[0m \u001b[0;32min\u001b[0m \u001b[0malternatives\u001b[0m\u001b[0;34m:\u001b[0m\u001b[0;34m\u001b[0m\u001b[0;34m\u001b[0m\u001b[0m\n\u001b[1;32m    144\u001b[0m         \u001b[0;32mraise\u001b[0m \u001b[0mValueError\u001b[0m\u001b[0;34m(\u001b[0m\u001b[0;34mf'`alternative` must be one of {alternatives}.'\u001b[0m\u001b[0;34m)\u001b[0m\u001b[0;34m\u001b[0m\u001b[0;34m\u001b[0m\u001b[0m\n",
      "\u001b[0;31mAttributeError\u001b[0m: 'NoneType' object has no attribute 'lower'"
     ]
    }
   ],
   "source": [
    "import scipy\n",
    "module_exp=[central_module_exp_zscore,peripheric_module_exp_zscore]\n",
    "fig = plt.figure(figsize =(10, 7))\n",
    " \n",
    "# Creating axes instance\n",
    "ax = fig.add_subplot(111)\n",
    " \n",
    "# Creating plot\n",
    "bp = ax.boxplot(module_exp)\n",
    "\n",
    "ax.set_xticklabels(['central modules', 'peripheric modules'])\n",
    "ax.set_ylabel('z-score')\n",
    "# show plot\n",
    "plt.show()\n",
    "print(scipy.stats.mannwhitneyu(central_module_exp_zscore, peripheric_module_exp_zscore, use_continuity=True, alternative='two-sided'))\n"
   ]
  },
  {
   "cell_type": "code",
   "execution_count": null,
   "metadata": {},
   "outputs": [],
   "source": []
  }
 ],
 "metadata": {
  "kernelspec": {
   "display_name": "Python 3",
   "language": "python",
   "name": "python3"
  },
  "language_info": {
   "codemirror_mode": {
    "name": "ipython",
    "version": 3
   },
   "file_extension": ".py",
   "mimetype": "text/x-python",
   "name": "python",
   "nbconvert_exporter": "python",
   "pygments_lexer": "ipython3",
   "version": "3.8.12"
  }
 },
 "nbformat": 4,
 "nbformat_minor": 4
}
