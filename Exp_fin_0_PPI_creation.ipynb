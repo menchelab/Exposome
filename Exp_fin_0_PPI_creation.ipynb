{
 "cells": [
  {
   "cell_type": "code",
   "execution_count": 1,
   "metadata": {},
   "outputs": [],
   "source": [
    "import os\n",
    "import sys\n",
    "import numpy as np\n",
    "import networkx as nx\n",
    "import itertools as it\n",
    "import random as rd\n",
    "import pickle as pk\n",
    "import os.path\n",
    "import pandas as pd\n",
    "from collections import (defaultdict,Counter)\n",
    "import time\n",
    "import matplotlib.pyplot as plt\n"
   ]
  },
  {
   "cell_type": "code",
   "execution_count": 3,
   "metadata": {},
   "outputs": [],
   "source": [
    "#This function returns the symbol names of a genelist with entrez ids\n",
    "def conversion_entrez_to_symbol_all_species(gene_list,name_species):   #name_species must be the official entrez name in string format\n",
    "    from Bio import Entrez\n",
    "\n",
    "    entrez_to_sym_dict={}    #create a dictionary entrez to symbol\n",
    "    for gene in gene_list:\n",
    "        try:\n",
    "        #retrieve gene ID\n",
    "            request = Entrez.epost(\"gene\", id=gene)\n",
    "            result = Entrez.read(request)\n",
    "            webEnv = result[\"WebEnv\"]\n",
    "            queryKey = result[\"QueryKey\"]\n",
    "            data = Entrez.esummary(db=\"gene\", webenv=webEnv, query_key=queryKey)\n",
    "            annotations = Entrez.read(data)\n",
    "            gene_id = annotations['DocumentSummarySet']['DocumentSummary'][0]['Name']\n",
    "            entrez_to_sym_dict[gene]=gene_id\n",
    "        except:\n",
    "            pass\n",
    "                \n",
    "    return entrez_to_sym_dict"
   ]
  },
  {
   "cell_type": "code",
   "execution_count": 2,
   "metadata": {},
   "outputs": [
    {
     "name": "stdout",
     "output_type": "stream",
     "text": [
      "The number of nodes in the PPI is 18853\n",
      "The number of edges in the PPI is 483037\n"
     ]
    }
   ],
   "source": [
    "#Let's import the PPI from Autocore (merging Menche interactome, Hippie and Huri)\n",
    "autocore_df=pd.read_csv(\"input/PPI/autocore_ppi.txt\",sep=\"\\t\")\n",
    "#This will create a network out of it\n",
    "G_autocore=nx.from_pandas_edgelist(autocore_df, \"node1\", 'node2')\n",
    "print(\"The number of nodes in the PPI is %s\" %G_autocore.number_of_nodes()) \n",
    "print(\"The number of edges in the PPI is %s\" %G_autocore.number_of_edges()) "
   ]
  },
  {
   "cell_type": "code",
   "execution_count": 4,
   "metadata": {},
   "outputs": [
    {
     "name": "stderr",
     "output_type": "stream",
     "text": [
      "/Users/lsd/opt/anaconda3/lib/python3.8/site-packages/Bio/Entrez/__init__.py:658: UserWarning: \n",
      "Email address is not specified.\n",
      "\n",
      "To make use of NCBI's E-utilities, NCBI requires you to specify your\n",
      "email address with each request.  As an example, if your email address\n",
      "is A.N.Other@example.com, you can specify it as follows:\n",
      "   from Bio import Entrez\n",
      "   Entrez.email = 'A.N.Other@example.com'\n",
      "In case of excessive usage of the E-utilities, NCBI will attempt to contact\n",
      "a user at the email address provided before blocking access to the\n",
      "E-utilities.\n",
      "  warnings.warn(\n"
     ]
    }
   ],
   "source": [
    "#Let's extract the entrez ids of the nodes in the PPI\n",
    "node_list=list(G_autocore.nodes())\n",
    "#This will convert the node ids into nodes symbols\n",
    "node_symbol_dict = conversion_entrez_to_symbol_all_species(node_list,\"Homo sapiens\")\n",
    "#This will rename the nodes in the network according to their official symbol\n",
    "G_autocore_symbol = nx.relabel_nodes(G_autocore, node_symbol_dict)"
   ]
  },
  {
   "cell_type": "code",
   "execution_count": 6,
   "metadata": {},
   "outputs": [
    {
     "name": "stdout",
     "output_type": "stream",
     "text": [
      "The number of nodes in the PPI is 18831\n",
      "The number of edges in the PPI is 482950\n"
     ]
    }
   ],
   "source": [
    "print(\"The number of nodes in the PPI is %s\" %G_autocore_symbol.number_of_nodes()) \n",
    "print(\"The number of edges in the PPI is %s\" %G_autocore_symbol.number_of_edges()) "
   ]
  },
  {
   "cell_type": "code",
   "execution_count": 7,
   "metadata": {},
   "outputs": [
    {
     "name": "stdout",
     "output_type": "stream",
     "text": [
      "18815\n",
      "482935\n"
     ]
    }
   ],
   "source": [
    "#Let's extract the largest connected component of this network\n",
    "G_autocore_symbol_lcc = G_autocore_symbol.subgraph(max(nx.connected_components(G_autocore_symbol), key=len))  # extract lcc graph\n",
    "#Let's remove the self loops from the network\n",
    "#G_julia_symbol_lcc.remove_edges_from(nx.selfloop_edges(G_julia_symbol_lcc))\n",
    "#We will keep them:\n",
    "print(G_autocore_symbol_lcc.number_of_nodes())\n",
    "print(G_autocore_symbol_lcc.number_of_edges())\n",
    "#Let's save it as a csv\n",
    "autocore_ppi_symbol=nx.to_pandas_edgelist(G_autocore_symbol_lcc,'symbol1', 'symbol2')\n",
    "autocore_ppi_symbol.to_csv('input/PPI/autocore_symbol_lcc.csv', index=False) "
   ]
  },
  {
   "cell_type": "code",
   "execution_count": null,
   "metadata": {},
   "outputs": [],
   "source": []
  }
 ],
 "metadata": {
  "kernelspec": {
   "display_name": "Python 3",
   "language": "python",
   "name": "python3"
  },
  "language_info": {
   "codemirror_mode": {
    "name": "ipython",
    "version": 3
   },
   "file_extension": ".py",
   "mimetype": "text/x-python",
   "name": "python",
   "nbconvert_exporter": "python",
   "pygments_lexer": "ipython3",
   "version": "3.8.12"
  }
 },
 "nbformat": 4,
 "nbformat_minor": 4
}
